{
 "cells": [
  {
   "cell_type": "markdown",
   "metadata": {},
   "source": [
    "# Subqueries in AQL\n",
    "\n",
    "AQL subqueries are a powerful feature that allows you to perform complex data retrieval and manipulation operations."
   ]
  },
  {
   "cell_type": "markdown",
   "metadata": {},
   "source": [
    "## Basic Subqueries\n",
    "\n",
    "A basic subquery is an AQL query embedded within another AQL query. The inner query (subquery) is executed for each document in the outer query."
   ]
  },
  {
   "cell_type": "markdown",
   "metadata": {},
   "source": [
    "### Example 1: Simple Friends Subquery\n",
    "\n",
    "This example retrieves the friends of a user. It uses the `FILTER friend.userId == user._id` condition to match friends."
   ]
  },
  {
   "cell_type": "code",
   "execution_count": null,
   "metadata": {},
   "outputs": [],
   "source": [
    "FOR user IN users\n",
    "  LET friends = (\n",
    "    FOR friend IN friends\n",
    "    FILTER friend.userId == user._id\n",
    "    RETURN friend\n",
    "  )\n",
    "  RETURN {\n",
    "    user: user,\n",
    "    friends: friends\n",
    "  }"
   ]
  },
  {
   "cell_type": "markdown",
   "metadata": {},
   "source": [
    "### Example 2: Orders Subquery\n",
    "\n",
    "This example retrieves the orders placed by a user. It's a correlated subquery."
   ]
  },
  {
   "cell_type": "code",
   "execution_count": null,
   "metadata": {},
   "outputs": [],
   "source": [
    "FOR user IN users\n",
    "  LET orders = (\n",
    "    FOR order IN orders\n",
    "    FILTER order.userId == user._id\n",
    "    RETURN order\n",
    "  )\n",
    "  RETURN {\n",
    "    user: user,\n",
    "orders: orders\n",
    "  }"
   ]
  },
  {
   "cell_type": "markdown",
   "metadata": {},
   "source": [
    "### Example 3: Items in Order Subquery\n",
    "\n",
    "This example retrieves the items included in each order of a user"
   ]
  },
  {
   "cell_type": "code",
   "execution_count": null,
   "metadata": {},
   "outputs": [],
   "source": [
    "FOR user IN users\n",
    "  LET orders = (\n",
    "    FOR order IN orders\n",
    "    FILTER order.userId == user._id\n",
    "    LET items = (\n",
    "      FOR item IN order.items\n",
    "        RETURN item\n",
    "    )\n",
    "    RETURN {order: order, items: items}\n",
    "  )\n",
    "  RETURN {\n",
    "    user: user,\n",
    "    orders: orders\n",
    "  }"
   ]
  },
  {
   "cell_type": "markdown",
   "metadata": {},
   "source": [
    "### Subquery Results\n",
    "\n",
    "The result of a subquery is always an array. This array can then be processed further in the outer query. For example, you can use `LENGTH()` to determine the number of results."
   ]
  },
  {
   "cell_type": "markdown",
   "metadata": {},
   "source": [
    "## Correlated Subqueries\n",
    "\n",
    "Correlated subqueries refer to variables from the outer query. In the following example, the `user` variable from the outer loop is used in the inner loop."
   ]
  },
  {
   "cell_type": "code",
   "execution_count": null,
   "metadata": {},
   "outputs": [],
   "source": [
    "FOR user IN users\n",
    "  LET orders = (\n",
    "    FOR order IN orders\n",
    "    FILTER order.userId == user._id\n",
    "    RETURN order\n",
    "  )\n",
    "  RETURN {\n",
    "    user: user,\n",
    "    orders: orders\n",
    "  }"
   ]
  },
  {
   "cell_type": "markdown",
   "metadata": {},
   "source": [
    "## Non-Correlated Subqueries\n",
    "\n",
    "Non-correlated subqueries do not depend on variables from the outer query. They are essentially independent queries that are executed once and their result is used in the outer query. They can be useful, but also less efficient."
   ]
  },
  {
   "cell_type": "code",
   "execution_count": null,
   "metadata": {},
   "outputs": [],
   "source": [
    "LET activeUsers = (\n",
    "  FOR user IN users\n",
    "  FILTER user.status == \"active\"\n",
    "  RETURN user\n",
    ")\n",
    "FOR user IN activeUsers\n",
    "  RETURN user"
   ]
  },
  {
   "cell_type": "markdown",
   "metadata": {},
   "source": [
    "## Using Subqueries in FILTER conditions\n",
    "\n",
    "Subqueries can be used within `FILTER` conditions to restrict the result set based on complex criteria. The following conditions apply:\n",
    "\n",
    "*   The subquery must return a boolean value.\n",
    "*   The subquery should be efficient.\n",
    "*   Consider using `EXISTS()` for existence checks."
   ]
  },
  {
   "cell_type": "code",
   "execution_count": null,
   "metadata": {},
   "outputs": [],
   "source": [
    "FOR user IN users\n",
    "  FILTER LENGTH(\n",
    "    FOR friend IN friends\n",
    "    FILTER friend.userId == user._id\n",
    "    RETURN 1\n",
    "  ) > 5\n",
    "  RETURN user"
   ]
  },
  {
   "cell_type": "markdown",
   "metadata": {},
   "source": [
    "# Advanced Subquery Usage\n",
    "\n",
    "This section covers more advanced techniques for using subqueries in AQL."
   ]
  },
  {
   "cell_type": "markdown",
   "metadata": {},
   "source": [
    "## Executing AQL Subqueries\n",
    "\n",
    "This section provides examples of how to execute AQL subqueries in different environments."
   ]
  },
  {
   "cell_type": "markdown",
   "metadata": {},
   "source": [
    "### Executing AQL in Python (python-arango)\n",
    "\n",
    "Here's how to execute an AQL query using the `python-arango` driver:"
   ]
  },
  {
   "cell_type": "code",
   "execution_count": null,
   "metadata": {},
   "outputs": [],
   "source": [
    "from arango import ArangoClient\n",
    "\n",
    "def execute_aql_query(db_name, aql_query, bind_vars={}):\n",
    "    \"\"\"\n",
    "    Executes an AQL query against an ArangoDB database using the python-arango driver.\n",
    "\n",
    "    Args:\n",
    "        db_name (str): The name of the ArangoDB database.\n",
    "        aql_query (str): The AQL query to execute.\n",
    "        bind_vars (dict, optional): Bind variables for the query. Defaults to {}.\n",
    "\n",
    "    Returns:\n",
    "        list: The result of the query as a list of dictionaries.\n",
    "    \"\"\"",
    "    # Initialize the ArangoDB client.\n",
    "    client = ArangoClient(hosts=\"http://localhost:8529\")\n",
    "\n",
    "    # Connect to the database.\n",
    "    db = client.db(db_name, username=\"root\", password=\"your_password\")\n",
    "\n",
    "    # Execute the query.\n",
    "    cursor = db.aql.execute(aql_query, bind_vars=bind_vars)\n",
    "\n",
    "    # Return the results.\n",
    "    return list(cursor)\n",
    "\n",
    "# Example usage\n",
    "if __name__ == \"__main__\":\n",
    "    query = \"\"\"\n",
    "    FOR user IN users\n",
    "      LET friends = (\n",
    "        FOR friend IN friends\n",
    "        FILTER friend.userId == user._id\n",
    "        RETURN friend\n",
    "      )\n",
    "      RETURN {\n",
    "        user: user,\n",
    "        friends: friends\n",
    "      }\n",
    "    \"\"\"\n",
    "    results = execute_aql_query(\"your_db_name\", query)\n",
    "    print(results)"
   ]
  },
  {
   "cell_type": "markdown",
   "metadata": {},
   "source": [
    "### Executing AQL in JavaScript (ArangoDB Shell)\n",
    "\n",
    "Here's how to execute the same AQL query in the ArangoDB shell (JavaScript):"
   ]
  },
  {
   "cell_type": "code",
   "execution_count": null,
   "metadata": {},
   "outputs": [],
   "source": [
    "// Connect to the database\n",
    "const db = require(\"@arangodb\").db;\n",
    "\n",
    "// AQL query\n",
    "let query = `\n",
    "  FOR user IN users\n",
    "    LET friends = (\n",
    "      FOR friend IN friends\n",
    "      FILTER friend.userId == user._id\n",
    "      RETURN friend\n",
    "    )\n",
    "    RETURN {\n",
    "      user: user,\n",
    "      friends: friends\n",
    "    }\n",
    "`;\n",
    "\n",
    "// Execute the query\n",
    "let cursor = db._query(query);\n",
    "\n",
    "// Print the results\n",
    "while (cursor.hasNext()) {\n",
    "  console.log(cursor.next());\n",
    "}"
   ]
  }
 ],
 "metadata": {
  "kernelspec": {
   "display_name": "Python 3",
   "language": "python",
   "name": "python3"
  },
  "language_info": {
   "codemirror_mode": {
    "name": "ipython",
    "version": 3
   },
   "file_extension": ".py",
   "mimetype": "text/x-python",
   "name": "python",
   "nbconvert_exporter": "python",
   "pygments_lexer": "ipython3",
   "version": "3.8.5"
  }
 },
 "nbformat": 4,
 "nbformat_minor": 5
}
